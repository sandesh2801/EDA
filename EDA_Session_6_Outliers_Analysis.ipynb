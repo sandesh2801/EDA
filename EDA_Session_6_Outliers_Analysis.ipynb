{
 "cells": [
  {
   "cell_type": "code",
   "execution_count": 2,
   "id": "dad90402-c6e8-457e-b06b-12e23739fd77",
   "metadata": {},
   "outputs": [],
   "source": [
    "import pandas as pd\n",
    "import numpy as np\n",
    "import matplotlib.pyplot as plt\n",
    "import seaborn as sns"
   ]
  },
  {
   "cell_type": "code",
   "execution_count": 3,
   "id": "478d21f3-12c0-4270-a9f9-3c254d94fdb0",
   "metadata": {},
   "outputs": [
    {
     "data": {
      "text/html": [
       "<div>\n",
       "<style scoped>\n",
       "    .dataframe tbody tr th:only-of-type {\n",
       "        vertical-align: middle;\n",
       "    }\n",
       "\n",
       "    .dataframe tbody tr th {\n",
       "        vertical-align: top;\n",
       "    }\n",
       "\n",
       "    .dataframe thead th {\n",
       "        text-align: right;\n",
       "    }\n",
       "</style>\n",
       "<table border=\"1\" class=\"dataframe\">\n",
       "  <thead>\n",
       "    <tr style=\"text-align: right;\">\n",
       "      <th></th>\n",
       "      <th>case_id</th>\n",
       "      <th>continent</th>\n",
       "      <th>education_of_employee</th>\n",
       "      <th>has_job_experience</th>\n",
       "      <th>requires_job_training</th>\n",
       "      <th>no_of_employees</th>\n",
       "      <th>yr_of_estab</th>\n",
       "      <th>region_of_employment</th>\n",
       "      <th>prevailing_wage</th>\n",
       "      <th>unit_of_wage</th>\n",
       "      <th>full_time_position</th>\n",
       "      <th>case_status</th>\n",
       "    </tr>\n",
       "  </thead>\n",
       "  <tbody>\n",
       "    <tr>\n",
       "      <th>0</th>\n",
       "      <td>EZYV01</td>\n",
       "      <td>Asia</td>\n",
       "      <td>High School</td>\n",
       "      <td>N</td>\n",
       "      <td>N</td>\n",
       "      <td>14513</td>\n",
       "      <td>2007</td>\n",
       "      <td>West</td>\n",
       "      <td>592.2029</td>\n",
       "      <td>Hour</td>\n",
       "      <td>Y</td>\n",
       "      <td>Denied</td>\n",
       "    </tr>\n",
       "    <tr>\n",
       "      <th>1</th>\n",
       "      <td>EZYV02</td>\n",
       "      <td>Asia</td>\n",
       "      <td>Master's</td>\n",
       "      <td>Y</td>\n",
       "      <td>N</td>\n",
       "      <td>2412</td>\n",
       "      <td>2002</td>\n",
       "      <td>Northeast</td>\n",
       "      <td>83425.6500</td>\n",
       "      <td>Year</td>\n",
       "      <td>Y</td>\n",
       "      <td>Certified</td>\n",
       "    </tr>\n",
       "    <tr>\n",
       "      <th>2</th>\n",
       "      <td>EZYV03</td>\n",
       "      <td>Asia</td>\n",
       "      <td>Bachelor's</td>\n",
       "      <td>N</td>\n",
       "      <td>Y</td>\n",
       "      <td>44444</td>\n",
       "      <td>2008</td>\n",
       "      <td>West</td>\n",
       "      <td>122996.8600</td>\n",
       "      <td>Year</td>\n",
       "      <td>Y</td>\n",
       "      <td>Denied</td>\n",
       "    </tr>\n",
       "    <tr>\n",
       "      <th>3</th>\n",
       "      <td>EZYV04</td>\n",
       "      <td>Asia</td>\n",
       "      <td>Bachelor's</td>\n",
       "      <td>N</td>\n",
       "      <td>N</td>\n",
       "      <td>98</td>\n",
       "      <td>1897</td>\n",
       "      <td>West</td>\n",
       "      <td>83434.0300</td>\n",
       "      <td>Year</td>\n",
       "      <td>Y</td>\n",
       "      <td>Denied</td>\n",
       "    </tr>\n",
       "    <tr>\n",
       "      <th>4</th>\n",
       "      <td>EZYV05</td>\n",
       "      <td>Africa</td>\n",
       "      <td>Master's</td>\n",
       "      <td>Y</td>\n",
       "      <td>N</td>\n",
       "      <td>1082</td>\n",
       "      <td>2005</td>\n",
       "      <td>South</td>\n",
       "      <td>149907.3900</td>\n",
       "      <td>Year</td>\n",
       "      <td>Y</td>\n",
       "      <td>Certified</td>\n",
       "    </tr>\n",
       "    <tr>\n",
       "      <th>...</th>\n",
       "      <td>...</td>\n",
       "      <td>...</td>\n",
       "      <td>...</td>\n",
       "      <td>...</td>\n",
       "      <td>...</td>\n",
       "      <td>...</td>\n",
       "      <td>...</td>\n",
       "      <td>...</td>\n",
       "      <td>...</td>\n",
       "      <td>...</td>\n",
       "      <td>...</td>\n",
       "      <td>...</td>\n",
       "    </tr>\n",
       "    <tr>\n",
       "      <th>25475</th>\n",
       "      <td>EZYV25476</td>\n",
       "      <td>Asia</td>\n",
       "      <td>Bachelor's</td>\n",
       "      <td>Y</td>\n",
       "      <td>Y</td>\n",
       "      <td>2601</td>\n",
       "      <td>2008</td>\n",
       "      <td>South</td>\n",
       "      <td>77092.5700</td>\n",
       "      <td>Year</td>\n",
       "      <td>Y</td>\n",
       "      <td>Certified</td>\n",
       "    </tr>\n",
       "    <tr>\n",
       "      <th>25476</th>\n",
       "      <td>EZYV25477</td>\n",
       "      <td>Asia</td>\n",
       "      <td>High School</td>\n",
       "      <td>Y</td>\n",
       "      <td>N</td>\n",
       "      <td>3274</td>\n",
       "      <td>2006</td>\n",
       "      <td>Northeast</td>\n",
       "      <td>279174.7900</td>\n",
       "      <td>Year</td>\n",
       "      <td>Y</td>\n",
       "      <td>Certified</td>\n",
       "    </tr>\n",
       "    <tr>\n",
       "      <th>25477</th>\n",
       "      <td>EZYV25478</td>\n",
       "      <td>Asia</td>\n",
       "      <td>Master's</td>\n",
       "      <td>Y</td>\n",
       "      <td>N</td>\n",
       "      <td>1121</td>\n",
       "      <td>1910</td>\n",
       "      <td>South</td>\n",
       "      <td>146298.8500</td>\n",
       "      <td>Year</td>\n",
       "      <td>N</td>\n",
       "      <td>Certified</td>\n",
       "    </tr>\n",
       "    <tr>\n",
       "      <th>25478</th>\n",
       "      <td>EZYV25479</td>\n",
       "      <td>Asia</td>\n",
       "      <td>Master's</td>\n",
       "      <td>Y</td>\n",
       "      <td>Y</td>\n",
       "      <td>1918</td>\n",
       "      <td>1887</td>\n",
       "      <td>West</td>\n",
       "      <td>86154.7700</td>\n",
       "      <td>Year</td>\n",
       "      <td>Y</td>\n",
       "      <td>Certified</td>\n",
       "    </tr>\n",
       "    <tr>\n",
       "      <th>25479</th>\n",
       "      <td>EZYV25480</td>\n",
       "      <td>Asia</td>\n",
       "      <td>Bachelor's</td>\n",
       "      <td>Y</td>\n",
       "      <td>N</td>\n",
       "      <td>3195</td>\n",
       "      <td>1960</td>\n",
       "      <td>Midwest</td>\n",
       "      <td>70876.9100</td>\n",
       "      <td>Year</td>\n",
       "      <td>Y</td>\n",
       "      <td>Certified</td>\n",
       "    </tr>\n",
       "  </tbody>\n",
       "</table>\n",
       "<p>25480 rows × 12 columns</p>\n",
       "</div>"
      ],
      "text/plain": [
       "         case_id continent education_of_employee has_job_experience  \\\n",
       "0         EZYV01      Asia           High School                  N   \n",
       "1         EZYV02      Asia              Master's                  Y   \n",
       "2         EZYV03      Asia            Bachelor's                  N   \n",
       "3         EZYV04      Asia            Bachelor's                  N   \n",
       "4         EZYV05    Africa              Master's                  Y   \n",
       "...          ...       ...                   ...                ...   \n",
       "25475  EZYV25476      Asia            Bachelor's                  Y   \n",
       "25476  EZYV25477      Asia           High School                  Y   \n",
       "25477  EZYV25478      Asia              Master's                  Y   \n",
       "25478  EZYV25479      Asia              Master's                  Y   \n",
       "25479  EZYV25480      Asia            Bachelor's                  Y   \n",
       "\n",
       "      requires_job_training  no_of_employees  yr_of_estab  \\\n",
       "0                         N            14513         2007   \n",
       "1                         N             2412         2002   \n",
       "2                         Y            44444         2008   \n",
       "3                         N               98         1897   \n",
       "4                         N             1082         2005   \n",
       "...                     ...              ...          ...   \n",
       "25475                     Y             2601         2008   \n",
       "25476                     N             3274         2006   \n",
       "25477                     N             1121         1910   \n",
       "25478                     Y             1918         1887   \n",
       "25479                     N             3195         1960   \n",
       "\n",
       "      region_of_employment  prevailing_wage unit_of_wage full_time_position  \\\n",
       "0                     West         592.2029         Hour                  Y   \n",
       "1                Northeast       83425.6500         Year                  Y   \n",
       "2                     West      122996.8600         Year                  Y   \n",
       "3                     West       83434.0300         Year                  Y   \n",
       "4                    South      149907.3900         Year                  Y   \n",
       "...                    ...              ...          ...                ...   \n",
       "25475                South       77092.5700         Year                  Y   \n",
       "25476            Northeast      279174.7900         Year                  Y   \n",
       "25477                South      146298.8500         Year                  N   \n",
       "25478                 West       86154.7700         Year                  Y   \n",
       "25479              Midwest       70876.9100         Year                  Y   \n",
       "\n",
       "      case_status  \n",
       "0          Denied  \n",
       "1       Certified  \n",
       "2          Denied  \n",
       "3          Denied  \n",
       "4       Certified  \n",
       "...           ...  \n",
       "25475   Certified  \n",
       "25476   Certified  \n",
       "25477   Certified  \n",
       "25478   Certified  \n",
       "25479   Certified  \n",
       "\n",
       "[25480 rows x 12 columns]"
      ]
     },
     "execution_count": 3,
     "metadata": {},
     "output_type": "execute_result"
    }
   ],
   "source": [
    "visa_df=pd.read_csv(r\"C:\\Users\\hp\\Documents\\Data Science\\Naresh IT\\EDA with Python\\Visadataset - Visadataset.csv\")\n",
    "visa_df"
   ]
  },
  {
   "cell_type": "markdown",
   "id": "7d56c3d5-0362-4120-b2de-ce68be5a565f",
   "metadata": {},
   "source": [
    "**Box Plot**"
   ]
  },
  {
   "cell_type": "code",
   "execution_count": 5,
   "id": "d1de18d4-c628-4424-a86b-1ba7077e35ee",
   "metadata": {},
   "outputs": [
    {
     "data": {
      "text/plain": [
       "{'whiskers': [<matplotlib.lines.Line2D at 0x1b397d4f950>,\n",
       "  <matplotlib.lines.Line2D at 0x1b397d58190>],\n",
       " 'caps': [<matplotlib.lines.Line2D at 0x1b397d58b10>,\n",
       "  <matplotlib.lines.Line2D at 0x1b397d59450>],\n",
       " 'boxes': [<matplotlib.lines.Line2D at 0x1b397d34f10>],\n",
       " 'medians': [<matplotlib.lines.Line2D at 0x1b397d59c50>],\n",
       " 'fliers': [<matplotlib.lines.Line2D at 0x1b397d5a4d0>],\n",
       " 'means': []}"
      ]
     },
     "execution_count": 5,
     "metadata": {},
     "output_type": "execute_result"
    },
    {
     "data": {
      "image/png": "[encoded data removed]",
      "text/plain": [
       "<Figure size 640x480 with 1 Axes>"
      ]
     },
     "metadata": {},
     "output_type": "display_data"
    }
   ],
   "source": [
    "plt.boxplot(visa_df['prevailing_wage'],vert=False)"
   ]
  },
  {
   "cell_type": "code",
   "execution_count": 9,
   "id": "d07ae738-a189-4046-8b3f-967a8757db4a",
   "metadata": {},
   "outputs": [
    {
     "data": {
      "text/plain": [
       "<Axes: >"
      ]
     },
     "execution_count": 9,
     "metadata": {},
     "output_type": "execute_result"
    },
    {
     "data": {
      "image/png": "[encoded data removed]",
      "text/plain": [
       "<Figure size 640x480 with 1 Axes>"
      ]
     },
     "metadata": {},
     "output_type": "display_data"
    }
   ],
   "source": [
    "sns.boxplot(visa_df['prevailing_wage'],orient='h')"
   ]
  },
  {
   "cell_type": "code",
   "execution_count": 4,
   "id": "df18addb-5c66-4d6d-92f1-313947653266",
   "metadata": {},
   "outputs": [
    {
     "data": {
      "image/png": "[encoded data removed]",
      "text/plain": [
       "<Figure size 1400x200 with 2 Axes>"
      ]
     },
     "metadata": {},
     "output_type": "display_data"
    }
   ],
   "source": [
    "plt.figure(figsize=(14,2))\n",
    "plt.subplot(1,2,1).hist(visa_df['prevailing_wage'])\n",
    "plt.subplot(1,2,2).boxplot(visa_df['prevailing_wage'])\n",
    "plt.show()"
   ]
  },
  {
   "cell_type": "markdown",
   "id": "dab0f13a-7497-4e2e-8739-dcd05e569efc",
   "metadata": {},
   "source": [
    "**Finding the outlier**"
   ]
  },
  {
   "cell_type": "markdown",
   "id": "0a355c0f-2909-4bcd-9085-36e1f6a020ed",
   "metadata": {},
   "source": [
    "- Outliers are availabe less than q1-1.5*IQR\n",
    "- Outliers are availabe greater than q3+1.5*IQR\n",
    "\n",
    "- Step:1\n",
    "   - calculate Q1\n",
    "   - calculate Q3\n",
    "   - Calculate IQR: Q3-Q1\n",
    "- Step-2:\n",
    "   - LB=Q1-1.5*IQR\n",
    "   - UB=Q3+1.5*IQR\n",
    "- Step-3:\n",
    "  - con1=visa_df['prevailing_wage']<LB\n",
    "  - con2=visa_df['prevailing_wage']>UB\n",
    "  - apply OR operator and get the outliers data"
   ]
  },
  {
   "cell_type": "code",
   "execution_count": 15,
   "id": "f9ad1c7a-2422-4d36-882e-c2dfc5e5c305",
   "metadata": {},
   "outputs": [],
   "source": [
    "q1=min(visa_df['prevailing_wage'])\n",
    "q2=max(visa_df['prevailing_wage'])\n",
    "lb=q1-1.5"
   ]
  },
  {
   "cell_type": "code",
   "execution_count": 5,
   "id": "655de8f8-9df2-4625-8abe-f5849c8b62cd",
   "metadata": {},
   "outputs": [
    {
     "data": {
      "text/plain": [
       "427"
      ]
     },
     "execution_count": 5,
     "metadata": {},
     "output_type": "execute_result"
    }
   ],
   "source": [
    "Q1 = np.percentile(visa_df['prevailing_wage'], 25)\n",
    "Q3 = np.percentile(visa_df['prevailing_wage'], 75)\n",
    "LB=Q1-1.5*(Q3-Q1)\n",
    "UB=Q3+1.5*(Q3-Q1)\n",
    "con1=visa_df['prevailing_wage']<LB\n",
    "con2=visa_df['prevailing_wage']>UB\n",
    "outliers=visa_df[con1 | con2]\n",
    "len(outliers)"
   ]
  },
  {
   "cell_type": "code",
   "execution_count": 25,
   "id": "580a58dd-f4d3-4953-b377-a7caaa6e0401",
   "metadata": {},
   "outputs": [],
   "source": [
    "# this above is outliers data"
   ]
  },
  {
   "cell_type": "markdown",
   "id": "83ec32f5-0cca-49f2-94f6-a672d4741081",
   "metadata": {},
   "source": [
    "**Non outliers Data**"
   ]
  },
  {
   "cell_type": "code",
   "execution_count": 4,
   "id": "22c3a403-5fa9-45d6-91a5-cfcf77889273",
   "metadata": {},
   "outputs": [
    {
     "data": {
      "text/plain": [
       "25053"
      ]
     },
     "execution_count": 4,
     "metadata": {},
     "output_type": "execute_result"
    }
   ],
   "source": [
    "Q1 = np.percentile(visa_df['prevailing_wage'], 25)\n",
    "Q3 = np.percentile(visa_df['prevailing_wage'], 75)\n",
    "LB=Q1-1.5*(Q3-Q1)\n",
    "UB=Q3+1.5*(Q3-Q1)\n",
    "con1=visa_df['prevailing_wage']>LB\n",
    "con2=visa_df['prevailing_wage']<UB\n",
    "non_outliers_data=visa_df[con1 & con2]\n",
    "len(non_outliers_data)"
   ]
  },
  {
   "cell_type": "code",
   "execution_count": 9,
   "id": "78ec90c0-a8d8-4245-a786-16d5a42e8265",
   "metadata": {},
   "outputs": [
    {
     "data": {
      "text/plain": [
       "{'whiskers': [<matplotlib.lines.Line2D at 0x289a76c74d0>,\n",
       "  <matplotlib.lines.Line2D at 0x289a76cfad0>],\n",
       " 'caps': [<matplotlib.lines.Line2D at 0x289a76dd7d0>,\n",
       "  <matplotlib.lines.Line2D at 0x289a76e4fd0>],\n",
       " 'boxes': [<matplotlib.lines.Line2D at 0x289a6f19290>],\n",
       " 'medians': [<matplotlib.lines.Line2D at 0x289a76ec8d0>],\n",
       " 'fliers': [<matplotlib.lines.Line2D at 0x289a76f0250>],\n",
       " 'means': []}"
      ]
     },
     "execution_count": 9,
     "metadata": {},
     "output_type": "execute_result"
    },
    {
     "data": {
      "image/png": "[encoded data removed]",
      "text/plain": [
       "<Figure size 1400x500 with 2 Axes>"
      ]
     },
     "metadata": {},
     "output_type": "display_data"
    }
   ],
   "source": [
    "plt.figure(figsize=(14,5))\n",
    "plt.subplot(1,2,1).hist(non_outliers_data['prevailing_wage'])\n",
    "plt.subplot(1,2,2).boxplot(non_outliers_data['prevailing_wage'])"
   ]
  },
  {
   "cell_type": "markdown",
   "id": "1440da79-979a-4bd8-bac9-374e48a1898a",
   "metadata": {},
   "source": [
    "**Comparing total data with non outliers data**"
   ]
  },
  {
   "cell_type": "code",
   "execution_count": 10,
   "id": "57791fed-f0b8-45ea-8371-ff096e7d1c9c",
   "metadata": {},
   "outputs": [
    {
     "data": {
      "image/png": "[encoded data removed]",
      "text/plain": [
       "<Figure size 1400x500 with 4 Axes>"
      ]
     },
     "metadata": {},
     "output_type": "display_data"
    }
   ],
   "source": [
    "plt.figure(figsize=(14,5))\n",
    "\n",
    "plt.suptitle(\"Non outliers data vs Original Data\")\n",
    "plt.subplot(2,2,1).hist(non_outliers_data['prevailing_wage'])\n",
    "plt.subplot(2,2,2).boxplot(non_outliers_data['prevailing_wage'])\n",
    "\n",
    "plt.subplot(2,2,3).hist(visa_df['prevailing_wage'])\n",
    "plt.subplot(2,2,4).boxplot(visa_df['prevailing_wage'])\n",
    "plt.show()"
   ]
  },
  {
   "cell_type": "code",
   "execution_count": 12,
   "id": "1d3b53e1-cf2c-4fe4-81bb-aefebbceec1b",
   "metadata": {},
   "outputs": [
    {
     "data": {
      "text/plain": [
       "(array([4580., 3368., 3890., 3942., 3507., 2860., 1643.,  706.,  295.,\n",
       "         262.]),\n",
       " array([2.13670000e+00, 2.18113840e+04, 4.36206314e+04, 6.54298787e+04,\n",
       "        8.72391260e+04, 1.09048373e+05, 1.30857621e+05, 1.52666868e+05,\n",
       "        1.74476115e+05, 1.96285363e+05, 2.18094610e+05]),\n",
       " <BarContainer object of 10 artists>)"
      ]
     },
     "execution_count": 12,
     "metadata": {},
     "output_type": "execute_result"
    },
    {
     "data": {
      "image/png": "[encoded data removed]",
      "text/plain": [
       "<Figure size 1400x500 with 1 Axes>"
      ]
     },
     "metadata": {},
     "output_type": "display_data"
    }
   ],
   "source": [
    "plt.figure(figsize=(14,5))\n",
    "plt.subplot(1,2,1).hist(visa_df['prevailing_wage'])\n",
    "plt.subplot(1,2,1).hist(non_outliers_data['prevailing_wage'])"
   ]
  },
  {
   "cell_type": "markdown",
   "id": "45f5214a-8e50-44bb-9056-1ccc1776f56c",
   "metadata": {},
   "source": [
    "**How to deal with outliers**"
   ]
  },
  {
   "cell_type": "markdown",
   "id": "da8fff48-b409-4e1f-af58-13099ed3a10d",
   "metadata": {},
   "source": [
    "**method- 1**\n",
    "- Drop the outliers\n",
    "\n",
    "    - not a good idea\n",
    "    - when you drop the oultiers all the rows data will loss\n",
    "    - eg: here we are droping 427 rows\n",
    "    - x % of 25480 =427\n",
    "    - it is 1.7% of data, here it is fine\n",
    "\n",
    "**Method-2**\n",
    "- Fill with median value\n",
    "   - we know that outliers does not affect the median\n",
    "   - so we can fill outliers with median\n",
    "\n",
    "**Method-3**\n",
    "- Cap the values with Q1 and Q3\n",
    "     - all less than bound we can replace with q1 or LB\n",
    "     - all greater than upper bound, we can replace with q3 or UB"
   ]
  },
  {
   "cell_type": "markdown",
   "id": "3d06f9f2-ea13-482e-a728-a9f9e803bc2c",
   "metadata": {},
   "source": [
    "$Fill with Median$"
   ]
  },
  {
   "cell_type": "markdown",
   "id": "c17d0952-41a2-452e-80f7-9b3f98e1c80c",
   "metadata": {},
   "source": [
    "- create a empty list\n",
    "- iterate the visa_df['prevailing_wage'].values\n",
    "- if each value <lb or >ub then append with median value, else append with i value"
   ]
  },
  {
   "cell_type": "code",
   "execution_count": 19,
   "id": "fb2e2c72-10d9-4756-9798-7d5d73b153bd",
   "metadata": {},
   "outputs": [
    {
     "data": {
      "text/plain": [
       "{'whiskers': [<matplotlib.lines.Line2D at 0x289abad8990>,\n",
       "  <matplotlib.lines.Line2D at 0x289a7ecf550>],\n",
       " 'caps': [<matplotlib.lines.Line2D at 0x289af7c0c90>,\n",
       "  <matplotlib.lines.Line2D at 0x289af7aaf10>],\n",
       " 'boxes': [<matplotlib.lines.Line2D at 0x289afba55d0>],\n",
       " 'medians': [<matplotlib.lines.Line2D at 0x289af82d150>],\n",
       " 'fliers': [<matplotlib.lines.Line2D at 0x289aba8c5d0>],\n",
       " 'means': []}"
      ]
     },
     "execution_count": 19,
     "metadata": {},
     "output_type": "execute_result"
    },
    {
     "data": {
      "image/png": "[encoded data removed]",
      "text/plain": [
       "<Figure size 640x480 with 1 Axes>"
      ]
     },
     "metadata": {},
     "output_type": "display_data"
    }
   ],
   "source": [
    "l=[]\n",
    "med=visa_df['prevailing_wage'].median()\n",
    "Q1 = np.percentile(visa_df['prevailing_wage'], 25)\n",
    "Q3 = np.percentile(visa_df['prevailing_wage'], 75)\n",
    "LB=Q1-1.5*(Q3-Q1)\n",
    "UB=Q3+1.5*(Q3-Q1)\n",
    "for i in visa_df['prevailing_wage'].values:\n",
    "    if i<LB or i>UB:\n",
    "        l.append(med)\n",
    "    else:\n",
    "        l.append(i)\n",
    "visa_df_copy=visa_df.copy()\n",
    "visa_df_copy['prevailing_wage']=l\n",
    "plt.boxplot(visa_df_copy['prevailing_wage'])\n"
   ]
  },
  {
   "cell_type": "markdown",
   "id": "d6f85606-78b6-44c9-a76e-b2fb75f6a327",
   "metadata": {},
   "source": [
    "**np.where()**"
   ]
  },
  {
   "cell_type": "markdown",
   "id": "59a02577-248a-4029-8d05-df85123f26a7",
   "metadata": {},
   "source": [
    "- will use binary condn\n",
    "- It has 3 arguments\n",
    "   - condition\n",
    "   - value if condition is True\n",
    "   - value if condition False"
   ]
  },
  {
   "cell_type": "code",
   "execution_count": 20,
   "id": "f8e18608-56da-4878-b2c3-50ee48d0cd7e",
   "metadata": {},
   "outputs": [],
   "source": [
    "d={\"sub\":['DS',\"ML\",'CS'],\"Marks\":[100,150,20]}\n",
    "data=pd.DataFrame(d)\n",
    "\n",
    "\n",
    "# MArks column replace with 1 when value >100 \n",
    "# else same value\n",
    "#Marks   New_Marks\n",
    "#100     100\n",
    "#150      1\n",
    "#20       20"
   ]
  },
  {
   "cell_type": "code",
   "execution_count": 21,
   "id": "f55da21e-14e4-441c-9254-b10fa74dd0a8",
   "metadata": {},
   "outputs": [
    {
     "data": {
      "text/html": [
       "<div>\n",
       "<style scoped>\n",
       "    .dataframe tbody tr th:only-of-type {\n",
       "        vertical-align: middle;\n",
       "    }\n",
       "\n",
       "    .dataframe tbody tr th {\n",
       "        vertical-align: top;\n",
       "    }\n",
       "\n",
       "    .dataframe thead th {\n",
       "        text-align: right;\n",
       "    }\n",
       "</style>\n",
       "<table border=\"1\" class=\"dataframe\">\n",
       "  <thead>\n",
       "    <tr style=\"text-align: right;\">\n",
       "      <th></th>\n",
       "      <th>sub</th>\n",
       "      <th>Marks</th>\n",
       "    </tr>\n",
       "  </thead>\n",
       "  <tbody>\n",
       "    <tr>\n",
       "      <th>0</th>\n",
       "      <td>DS</td>\n",
       "      <td>100</td>\n",
       "    </tr>\n",
       "    <tr>\n",
       "      <th>1</th>\n",
       "      <td>ML</td>\n",
       "      <td>150</td>\n",
       "    </tr>\n",
       "    <tr>\n",
       "      <th>2</th>\n",
       "      <td>CS</td>\n",
       "      <td>20</td>\n",
       "    </tr>\n",
       "  </tbody>\n",
       "</table>\n",
       "</div>"
      ],
      "text/plain": [
       "  sub  Marks\n",
       "0  DS    100\n",
       "1  ML    150\n",
       "2  CS     20"
      ]
     },
     "execution_count": 21,
     "metadata": {},
     "output_type": "execute_result"
    }
   ],
   "source": [
    "data"
   ]
  },
  {
   "cell_type": "code",
   "execution_count": 23,
   "id": "72cfb325-a1d8-4778-848a-044c2e702fbb",
   "metadata": {},
   "outputs": [
    {
     "data": {
      "text/plain": [
       "array([100,   1,  20], dtype=int64)"
      ]
     },
     "execution_count": 23,
     "metadata": {},
     "output_type": "execute_result"
    }
   ],
   "source": [
    "con=data['Marks']>100\n",
    "l=np.where(con,1,data['Marks'])\n",
    "l\n",
    "# 1 if true\n",
    "# false original value"
   ]
  },
  {
   "cell_type": "code",
   "execution_count": 25,
   "id": "cfc60a06-31e3-44f2-a6a2-3c04160bec5f",
   "metadata": {},
   "outputs": [
    {
     "data": {
      "text/plain": [
       "array([592.2029,   1.    ,   1.    , ...,   1.    ,   1.    ,   1.    ])"
      ]
     },
     "execution_count": 25,
     "metadata": {},
     "output_type": "execute_result"
    }
   ],
   "source": [
    "con2=visa_df['prevailing_wage']>1000\n",
    "l2=np.where(con2,1,visa_df['prevailing_wage'])\n",
    "l2"
   ]
  },
  {
   "cell_type": "code",
   "execution_count": null,
   "id": "12f6703c-06ad-4aae-be82-990dfcda84a0",
   "metadata": {},
   "outputs": [],
   "source": []
  }
 ],
 "metadata": {
  "kernelspec": {
   "display_name": "Python 3 (ipykernel)",
   "language": "python",
   "name": "python3"
  },
  "language_info": {
   "codemirror_mode": {
    "name": "ipython",
    "version": 3
   },
   "file_extension": ".py",
   "mimetype": "text/x-python",
   "name": "python",
   "nbconvert_exporter": "python",
   "pygments_lexer": "ipython3",
   "version": "3.11.7"
  }
 },
 "nbformat": 4,
 "nbformat_minor": 5
}
