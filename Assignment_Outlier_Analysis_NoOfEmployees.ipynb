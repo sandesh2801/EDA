{
 "cells": [
  {
   "cell_type": "code",
   "execution_count": 1,
   "id": "ef821734-f3d3-4f39-aaf4-acbeb7264f4a",
   "metadata": {},
   "outputs": [],
   "source": [
    "import pandas as pd\n",
    "import numpy as np\n",
    "import matplotlib.pyplot as plt\n",
    "import seaborn as sns"
   ]
  },
  {
   "cell_type": "code",
   "execution_count": 2,
   "id": "cf2577b8-ca1d-4423-86f1-69e9381553d7",
   "metadata": {},
   "outputs": [
    {
     "data": {
      "text/html": [
       "<div>\n",
       "<style scoped>\n",
       "    .dataframe tbody tr th:only-of-type {\n",
       "        vertical-align: middle;\n",
       "    }\n",
       "\n",
       "    .dataframe tbody tr th {\n",
       "        vertical-align: top;\n",
       "    }\n",
       "\n",
       "    .dataframe thead th {\n",
       "        text-align: right;\n",
       "    }\n",
       "</style>\n",
       "<table border=\"1\" class=\"dataframe\">\n",
       "  <thead>\n",
       "    <tr style=\"text-align: right;\">\n",
       "      <th></th>\n",
       "      <th>case_id</th>\n",
       "      <th>continent</th>\n",
       "      <th>education_of_employee</th>\n",
       "      <th>has_job_experience</th>\n",
       "      <th>requires_job_training</th>\n",
       "      <th>no_of_employees</th>\n",
       "      <th>yr_of_estab</th>\n",
       "      <th>region_of_employment</th>\n",
       "      <th>prevailing_wage</th>\n",
       "      <th>unit_of_wage</th>\n",
       "      <th>full_time_position</th>\n",
       "      <th>case_status</th>\n",
       "    </tr>\n",
       "  </thead>\n",
       "  <tbody>\n",
       "    <tr>\n",
       "      <th>0</th>\n",
       "      <td>EZYV01</td>\n",
       "      <td>Asia</td>\n",
       "      <td>High School</td>\n",
       "      <td>N</td>\n",
       "      <td>N</td>\n",
       "      <td>14513</td>\n",
       "      <td>2007</td>\n",
       "      <td>West</td>\n",
       "      <td>592.2029</td>\n",
       "      <td>Hour</td>\n",
       "      <td>Y</td>\n",
       "      <td>Denied</td>\n",
       "    </tr>\n",
       "    <tr>\n",
       "      <th>1</th>\n",
       "      <td>EZYV02</td>\n",
       "      <td>Asia</td>\n",
       "      <td>Master's</td>\n",
       "      <td>Y</td>\n",
       "      <td>N</td>\n",
       "      <td>2412</td>\n",
       "      <td>2002</td>\n",
       "      <td>Northeast</td>\n",
       "      <td>83425.6500</td>\n",
       "      <td>Year</td>\n",
       "      <td>Y</td>\n",
       "      <td>Certified</td>\n",
       "    </tr>\n",
       "    <tr>\n",
       "      <th>2</th>\n",
       "      <td>EZYV03</td>\n",
       "      <td>Asia</td>\n",
       "      <td>Bachelor's</td>\n",
       "      <td>N</td>\n",
       "      <td>Y</td>\n",
       "      <td>44444</td>\n",
       "      <td>2008</td>\n",
       "      <td>West</td>\n",
       "      <td>122996.8600</td>\n",
       "      <td>Year</td>\n",
       "      <td>Y</td>\n",
       "      <td>Denied</td>\n",
       "    </tr>\n",
       "    <tr>\n",
       "      <th>3</th>\n",
       "      <td>EZYV04</td>\n",
       "      <td>Asia</td>\n",
       "      <td>Bachelor's</td>\n",
       "      <td>N</td>\n",
       "      <td>N</td>\n",
       "      <td>98</td>\n",
       "      <td>1897</td>\n",
       "      <td>West</td>\n",
       "      <td>83434.0300</td>\n",
       "      <td>Year</td>\n",
       "      <td>Y</td>\n",
       "      <td>Denied</td>\n",
       "    </tr>\n",
       "    <tr>\n",
       "      <th>4</th>\n",
       "      <td>EZYV05</td>\n",
       "      <td>Africa</td>\n",
       "      <td>Master's</td>\n",
       "      <td>Y</td>\n",
       "      <td>N</td>\n",
       "      <td>1082</td>\n",
       "      <td>2005</td>\n",
       "      <td>South</td>\n",
       "      <td>149907.3900</td>\n",
       "      <td>Year</td>\n",
       "      <td>Y</td>\n",
       "      <td>Certified</td>\n",
       "    </tr>\n",
       "    <tr>\n",
       "      <th>...</th>\n",
       "      <td>...</td>\n",
       "      <td>...</td>\n",
       "      <td>...</td>\n",
       "      <td>...</td>\n",
       "      <td>...</td>\n",
       "      <td>...</td>\n",
       "      <td>...</td>\n",
       "      <td>...</td>\n",
       "      <td>...</td>\n",
       "      <td>...</td>\n",
       "      <td>...</td>\n",
       "      <td>...</td>\n",
       "    </tr>\n",
       "    <tr>\n",
       "      <th>25475</th>\n",
       "      <td>EZYV25476</td>\n",
       "      <td>Asia</td>\n",
       "      <td>Bachelor's</td>\n",
       "      <td>Y</td>\n",
       "      <td>Y</td>\n",
       "      <td>2601</td>\n",
       "      <td>2008</td>\n",
       "      <td>South</td>\n",
       "      <td>77092.5700</td>\n",
       "      <td>Year</td>\n",
       "      <td>Y</td>\n",
       "      <td>Certified</td>\n",
       "    </tr>\n",
       "    <tr>\n",
       "      <th>25476</th>\n",
       "      <td>EZYV25477</td>\n",
       "      <td>Asia</td>\n",
       "      <td>High School</td>\n",
       "      <td>Y</td>\n",
       "      <td>N</td>\n",
       "      <td>3274</td>\n",
       "      <td>2006</td>\n",
       "      <td>Northeast</td>\n",
       "      <td>279174.7900</td>\n",
       "      <td>Year</td>\n",
       "      <td>Y</td>\n",
       "      <td>Certified</td>\n",
       "    </tr>\n",
       "    <tr>\n",
       "      <th>25477</th>\n",
       "      <td>EZYV25478</td>\n",
       "      <td>Asia</td>\n",
       "      <td>Master's</td>\n",
       "      <td>Y</td>\n",
       "      <td>N</td>\n",
       "      <td>1121</td>\n",
       "      <td>1910</td>\n",
       "      <td>South</td>\n",
       "      <td>146298.8500</td>\n",
       "      <td>Year</td>\n",
       "      <td>N</td>\n",
       "      <td>Certified</td>\n",
       "    </tr>\n",
       "    <tr>\n",
       "      <th>25478</th>\n",
       "      <td>EZYV25479</td>\n",
       "      <td>Asia</td>\n",
       "      <td>Master's</td>\n",
       "      <td>Y</td>\n",
       "      <td>Y</td>\n",
       "      <td>1918</td>\n",
       "      <td>1887</td>\n",
       "      <td>West</td>\n",
       "      <td>86154.7700</td>\n",
       "      <td>Year</td>\n",
       "      <td>Y</td>\n",
       "      <td>Certified</td>\n",
       "    </tr>\n",
       "    <tr>\n",
       "      <th>25479</th>\n",
       "      <td>EZYV25480</td>\n",
       "      <td>Asia</td>\n",
       "      <td>Bachelor's</td>\n",
       "      <td>Y</td>\n",
       "      <td>N</td>\n",
       "      <td>3195</td>\n",
       "      <td>1960</td>\n",
       "      <td>Midwest</td>\n",
       "      <td>70876.9100</td>\n",
       "      <td>Year</td>\n",
       "      <td>Y</td>\n",
       "      <td>Certified</td>\n",
       "    </tr>\n",
       "  </tbody>\n",
       "</table>\n",
       "<p>25480 rows × 12 columns</p>\n",
       "</div>"
      ],
      "text/plain": [
       "         case_id continent education_of_employee has_job_experience  \\\n",
       "0         EZYV01      Asia           High School                  N   \n",
       "1         EZYV02      Asia              Master's                  Y   \n",
       "2         EZYV03      Asia            Bachelor's                  N   \n",
       "3         EZYV04      Asia            Bachelor's                  N   \n",
       "4         EZYV05    Africa              Master's                  Y   \n",
       "...          ...       ...                   ...                ...   \n",
       "25475  EZYV25476      Asia            Bachelor's                  Y   \n",
       "25476  EZYV25477      Asia           High School                  Y   \n",
       "25477  EZYV25478      Asia              Master's                  Y   \n",
       "25478  EZYV25479      Asia              Master's                  Y   \n",
       "25479  EZYV25480      Asia            Bachelor's                  Y   \n",
       "\n",
       "      requires_job_training  no_of_employees  yr_of_estab  \\\n",
       "0                         N            14513         2007   \n",
       "1                         N             2412         2002   \n",
       "2                         Y            44444         2008   \n",
       "3                         N               98         1897   \n",
       "4                         N             1082         2005   \n",
       "...                     ...              ...          ...   \n",
       "25475                     Y             2601         2008   \n",
       "25476                     N             3274         2006   \n",
       "25477                     N             1121         1910   \n",
       "25478                     Y             1918         1887   \n",
       "25479                     N             3195         1960   \n",
       "\n",
       "      region_of_employment  prevailing_wage unit_of_wage full_time_position  \\\n",
       "0                     West         592.2029         Hour                  Y   \n",
       "1                Northeast       83425.6500         Year                  Y   \n",
       "2                     West      122996.8600         Year                  Y   \n",
       "3                     West       83434.0300         Year                  Y   \n",
       "4                    South      149907.3900         Year                  Y   \n",
       "...                    ...              ...          ...                ...   \n",
       "25475                South       77092.5700         Year                  Y   \n",
       "25476            Northeast      279174.7900         Year                  Y   \n",
       "25477                South      146298.8500         Year                  N   \n",
       "25478                 West       86154.7700         Year                  Y   \n",
       "25479              Midwest       70876.9100         Year                  Y   \n",
       "\n",
       "      case_status  \n",
       "0          Denied  \n",
       "1       Certified  \n",
       "2          Denied  \n",
       "3          Denied  \n",
       "4       Certified  \n",
       "...           ...  \n",
       "25475   Certified  \n",
       "25476   Certified  \n",
       "25477   Certified  \n",
       "25478   Certified  \n",
       "25479   Certified  \n",
       "\n",
       "[25480 rows x 12 columns]"
      ]
     },
     "execution_count": 2,
     "metadata": {},
     "output_type": "execute_result"
    }
   ],
   "source": [
    "visa_df=pd.read_csv(r\"C:\\Users\\hp\\Documents\\Data Science\\Naresh IT\\EDA with Python\\Visadataset - Visadataset.csv\")\n",
    "visa_df"
   ]
  },
  {
   "cell_type": "code",
   "execution_count": 4,
   "id": "67735d28-b099-45aa-8535-d154758c69b7",
   "metadata": {},
   "outputs": [
    {
     "data": {
      "text/plain": [
       "{'whiskers': [<matplotlib.lines.Line2D at 0x298551a9850>,\n",
       "  <matplotlib.lines.Line2D at 0x298551ab390>],\n",
       " 'caps': [<matplotlib.lines.Line2D at 0x298551b0e10>,\n",
       "  <matplotlib.lines.Line2D at 0x298551b24d0>],\n",
       " 'boxes': [<matplotlib.lines.Line2D at 0x298551a8210>],\n",
       " 'medians': [<matplotlib.lines.Line2D at 0x298551b3c50>],\n",
       " 'fliers': [<matplotlib.lines.Line2D at 0x298551b9290>],\n",
       " 'means': []}"
      ]
     },
     "execution_count": 4,
     "metadata": {},
     "output_type": "execute_result"
    },
    {
     "data": {
      "image/png": "[encoded data removed]",
      "text/plain": [
       "<Figure size 640x480 with 1 Axes>"
      ]
     },
     "metadata": {},
     "output_type": "display_data"
    }
   ],
   "source": [
    "plt.boxplot(visa_df['no_of_employees'],vert=False)"
   ]
  },
  {
   "cell_type": "code",
   "execution_count": null,
   "id": "9b005f7c-8373-461c-9a02-15d9b17553e9",
   "metadata": {},
   "outputs": [],
   "source": [
    "# Too much Outliers"
   ]
  },
  {
   "cell_type": "code",
   "execution_count": 5,
   "id": "3ccea8f0-5a36-4762-804b-44f700735200",
   "metadata": {},
   "outputs": [
    {
     "data": {
      "text/plain": [
       "<Axes: >"
      ]
     },
     "execution_count": 5,
     "metadata": {},
     "output_type": "execute_result"
    },
    {
     "data": {
      "image/png": "[encoded data removed]",
      "text/plain": [
       "<Figure size 640x480 with 1 Axes>"
      ]
     },
     "metadata": {},
     "output_type": "display_data"
    }
   ],
   "source": [
    "#In Seaborn\n",
    "sns.boxplot(visa_df['no_of_employees'],orient='h')"
   ]
  },
  {
   "cell_type": "code",
   "execution_count": 11,
   "id": "a9af52be-2fa3-47dc-b8b8-ab49c4362c61",
   "metadata": {},
   "outputs": [
    {
     "data": {
      "text/plain": [
       "{'whiskers': [<matplotlib.lines.Line2D at 0x2985b6b0d90>,\n",
       "  <matplotlib.lines.Line2D at 0x2985b6b1a90>],\n",
       " 'caps': [<matplotlib.lines.Line2D at 0x2985b6b26d0>,\n",
       "  <matplotlib.lines.Line2D at 0x2985b6b3190>],\n",
       " 'boxes': [<matplotlib.lines.Line2D at 0x2985b6b0290>],\n",
       " 'medians': [<matplotlib.lines.Line2D at 0x2985b6b3c90>],\n",
       " 'fliers': [<matplotlib.lines.Line2D at 0x2985b6b4850>],\n",
       " 'means': []}"
      ]
     },
     "execution_count": 11,
     "metadata": {},
     "output_type": "execute_result"
    },
    {
     "data": {
      "image/png": "[encoded data removed]",
      "text/plain": [
       "<Figure size 1400x200 with 2 Axes>"
      ]
     },
     "metadata": {},
     "output_type": "display_data"
    }
   ],
   "source": [
    "plt.figure(figsize=(14,2))\n",
    "\n",
    "plt.subplot(1,2,1).hist(visa_df['no_of_employees'])\n",
    "plt.subplot(1,2,2).boxplot(visa_df['no_of_employees'],vert=False)"
   ]
  },
  {
   "cell_type": "markdown",
   "id": "775c855b-806c-4fb1-b3b4-f6dcd529a80e",
   "metadata": {},
   "source": [
    "**Finding the outliers**"
   ]
  },
  {
   "cell_type": "code",
   "execution_count": 15,
   "id": "1d23019f-ef8d-44fc-a519-3a01ab08b97b",
   "metadata": {},
   "outputs": [
    {
     "name": "stdout",
     "output_type": "stream",
     "text": [
      "1022.0 3504.0\n"
     ]
    }
   ],
   "source": [
    "Q1=np.percentile(visa_df['no_of_employees'],25)\n",
    "Q3=np.percentile(visa_df['no_of_employees'],75)\n",
    "print(Q1,Q3)"
   ]
  },
  {
   "cell_type": "code",
   "execution_count": 18,
   "id": "07befbc2-0eb1-4e8b-abd9-4f5e4c3e50e4",
   "metadata": {},
   "outputs": [
    {
     "name": "stdout",
     "output_type": "stream",
     "text": [
      "-2701.0 7227.0\n"
     ]
    }
   ],
   "source": [
    "LB=Q1-1.5*(Q3-Q1)\n",
    "UB=Q3+1.5*(Q3-Q1)\n",
    "print(LB,UB)"
   ]
  },
  {
   "cell_type": "code",
   "execution_count": 19,
   "id": "384af3bf-dbb9-4c78-9a8b-0768ed8050ea",
   "metadata": {},
   "outputs": [
    {
     "name": "stdout",
     "output_type": "stream",
     "text": [
      "0        False\n",
      "1        False\n",
      "2        False\n",
      "3        False\n",
      "4        False\n",
      "         ...  \n",
      "25475    False\n",
      "25476    False\n",
      "25477    False\n",
      "25478    False\n",
      "25479    False\n",
      "Name: no_of_employees, Length: 25480, dtype: bool 0         True\n",
      "1        False\n",
      "2         True\n",
      "3        False\n",
      "4        False\n",
      "         ...  \n",
      "25475    False\n",
      "25476    False\n",
      "25477    False\n",
      "25478    False\n",
      "25479    False\n",
      "Name: no_of_employees, Length: 25480, dtype: bool\n"
     ]
    }
   ],
   "source": [
    "con1=visa_df['no_of_employees']<LB\n",
    "con2=visa_df['no_of_employees']>UB\n",
    "print(con1,con2)"
   ]
  },
  {
   "cell_type": "code",
   "execution_count": 20,
   "id": "835b11ff-35e7-4c97-80e9-95f6f42611c6",
   "metadata": {},
   "outputs": [
    {
     "name": "stdout",
     "output_type": "stream",
     "text": [
      "         case_id      continent education_of_employee has_job_experience  \\\n",
      "0         EZYV01           Asia           High School                  N   \n",
      "2         EZYV03           Asia            Bachelor's                  N   \n",
      "12        EZYV13           Asia            Bachelor's                  Y   \n",
      "14        EZYV15           Asia              Master's                  Y   \n",
      "16        EZYV17         Europe              Master's                  Y   \n",
      "...          ...            ...                   ...                ...   \n",
      "25441  EZYV25442           Asia              Master's                  N   \n",
      "25443  EZYV25444         Africa            Bachelor's                  N   \n",
      "25455  EZYV25456  South America            Bachelor's                  N   \n",
      "25464  EZYV25465           Asia              Master's                  N   \n",
      "25471  EZYV25472           Asia           High School                  N   \n",
      "\n",
      "      requires_job_training  no_of_employees  yr_of_estab  \\\n",
      "0                         N            14513         2007   \n",
      "2                         Y            44444         2008   \n",
      "12                        N           123876         1963   \n",
      "14                        Y            15756         2006   \n",
      "16                        N            76638         1991   \n",
      "...                     ...              ...          ...   \n",
      "25441                     N            28199         1988   \n",
      "25443                     N            72892         2007   \n",
      "25455                     N            24335         1993   \n",
      "25464                     N            48785         1974   \n",
      "25471                     N            40224         1962   \n",
      "\n",
      "      region_of_employment  prevailing_wage unit_of_wage full_time_position  \\\n",
      "0                     West         592.2029         Hour                  Y   \n",
      "2                     West      122996.8600         Year                  Y   \n",
      "12               Northeast       28663.0500         Year                  Y   \n",
      "14                   South      220081.7300         Year                  Y   \n",
      "16                 Midwest        3706.7900         Year                  Y   \n",
      "...                    ...              ...          ...                ...   \n",
      "25441            Northeast       97906.7600         Year                  Y   \n",
      "25443            Northeast         215.1000         Hour                  Y   \n",
      "25455              Midwest       97393.4900         Year                  Y   \n",
      "25464                South      145102.3600         Year                  N   \n",
      "25471               Island       75587.4200         Year                  Y   \n",
      "\n",
      "      case_status  \n",
      "0          Denied  \n",
      "2          Denied  \n",
      "12      Certified  \n",
      "14      Certified  \n",
      "16      Certified  \n",
      "...           ...  \n",
      "25441   Certified  \n",
      "25443   Certified  \n",
      "25455   Certified  \n",
      "25464   Certified  \n",
      "25471   Certified  \n",
      "\n",
      "[1556 rows x 12 columns]\n"
     ]
    }
   ],
   "source": [
    "outliers=visa_df[con1 | con2]\n",
    "print(outliers)"
   ]
  },
  {
   "cell_type": "code",
   "execution_count": 21,
   "id": "fe180703-0ebe-45cb-92fe-55a635bec994",
   "metadata": {},
   "outputs": [
    {
     "data": {
      "text/plain": [
       "1556"
      ]
     },
     "execution_count": 21,
     "metadata": {},
     "output_type": "execute_result"
    }
   ],
   "source": [
    "len(outliers)"
   ]
  },
  {
   "cell_type": "code",
   "execution_count": 22,
   "id": "7932aab2-5b9f-4064-bd6d-ef927c2b311c",
   "metadata": {},
   "outputs": [],
   "source": [
    "# so 1556 is total no of employees as outliers"
   ]
  },
  {
   "cell_type": "markdown",
   "id": "98aaafed-e0f3-4c8b-90b1-fd33d559a71a",
   "metadata": {},
   "source": [
    "**Non Outliers Data**"
   ]
  },
  {
   "cell_type": "code",
   "execution_count": 24,
   "id": "cb241055-b59a-4fb7-9e1c-264af41c39db",
   "metadata": {},
   "outputs": [
    {
     "data": {
      "text/html": [
       "<div>\n",
       "<style scoped>\n",
       "    .dataframe tbody tr th:only-of-type {\n",
       "        vertical-align: middle;\n",
       "    }\n",
       "\n",
       "    .dataframe tbody tr th {\n",
       "        vertical-align: top;\n",
       "    }\n",
       "\n",
       "    .dataframe thead th {\n",
       "        text-align: right;\n",
       "    }\n",
       "</style>\n",
       "<table border=\"1\" class=\"dataframe\">\n",
       "  <thead>\n",
       "    <tr style=\"text-align: right;\">\n",
       "      <th></th>\n",
       "      <th>case_id</th>\n",
       "      <th>continent</th>\n",
       "      <th>education_of_employee</th>\n",
       "      <th>has_job_experience</th>\n",
       "      <th>requires_job_training</th>\n",
       "      <th>no_of_employees</th>\n",
       "      <th>yr_of_estab</th>\n",
       "      <th>region_of_employment</th>\n",
       "      <th>prevailing_wage</th>\n",
       "      <th>unit_of_wage</th>\n",
       "      <th>full_time_position</th>\n",
       "      <th>case_status</th>\n",
       "    </tr>\n",
       "  </thead>\n",
       "  <tbody>\n",
       "    <tr>\n",
       "      <th>1</th>\n",
       "      <td>EZYV02</td>\n",
       "      <td>Asia</td>\n",
       "      <td>Master's</td>\n",
       "      <td>Y</td>\n",
       "      <td>N</td>\n",
       "      <td>2412</td>\n",
       "      <td>2002</td>\n",
       "      <td>Northeast</td>\n",
       "      <td>83425.65</td>\n",
       "      <td>Year</td>\n",
       "      <td>Y</td>\n",
       "      <td>Certified</td>\n",
       "    </tr>\n",
       "    <tr>\n",
       "      <th>3</th>\n",
       "      <td>EZYV04</td>\n",
       "      <td>Asia</td>\n",
       "      <td>Bachelor's</td>\n",
       "      <td>N</td>\n",
       "      <td>N</td>\n",
       "      <td>98</td>\n",
       "      <td>1897</td>\n",
       "      <td>West</td>\n",
       "      <td>83434.03</td>\n",
       "      <td>Year</td>\n",
       "      <td>Y</td>\n",
       "      <td>Denied</td>\n",
       "    </tr>\n",
       "    <tr>\n",
       "      <th>4</th>\n",
       "      <td>EZYV05</td>\n",
       "      <td>Africa</td>\n",
       "      <td>Master's</td>\n",
       "      <td>Y</td>\n",
       "      <td>N</td>\n",
       "      <td>1082</td>\n",
       "      <td>2005</td>\n",
       "      <td>South</td>\n",
       "      <td>149907.39</td>\n",
       "      <td>Year</td>\n",
       "      <td>Y</td>\n",
       "      <td>Certified</td>\n",
       "    </tr>\n",
       "    <tr>\n",
       "      <th>5</th>\n",
       "      <td>EZYV06</td>\n",
       "      <td>Asia</td>\n",
       "      <td>Master's</td>\n",
       "      <td>Y</td>\n",
       "      <td>N</td>\n",
       "      <td>2339</td>\n",
       "      <td>2012</td>\n",
       "      <td>South</td>\n",
       "      <td>78252.14</td>\n",
       "      <td>Year</td>\n",
       "      <td>Y</td>\n",
       "      <td>Certified</td>\n",
       "    </tr>\n",
       "    <tr>\n",
       "      <th>6</th>\n",
       "      <td>EZYV07</td>\n",
       "      <td>Asia</td>\n",
       "      <td>Bachelor's</td>\n",
       "      <td>N</td>\n",
       "      <td>N</td>\n",
       "      <td>4985</td>\n",
       "      <td>1994</td>\n",
       "      <td>South</td>\n",
       "      <td>53635.39</td>\n",
       "      <td>Year</td>\n",
       "      <td>Y</td>\n",
       "      <td>Certified</td>\n",
       "    </tr>\n",
       "    <tr>\n",
       "      <th>...</th>\n",
       "      <td>...</td>\n",
       "      <td>...</td>\n",
       "      <td>...</td>\n",
       "      <td>...</td>\n",
       "      <td>...</td>\n",
       "      <td>...</td>\n",
       "      <td>...</td>\n",
       "      <td>...</td>\n",
       "      <td>...</td>\n",
       "      <td>...</td>\n",
       "      <td>...</td>\n",
       "      <td>...</td>\n",
       "    </tr>\n",
       "    <tr>\n",
       "      <th>25475</th>\n",
       "      <td>EZYV25476</td>\n",
       "      <td>Asia</td>\n",
       "      <td>Bachelor's</td>\n",
       "      <td>Y</td>\n",
       "      <td>Y</td>\n",
       "      <td>2601</td>\n",
       "      <td>2008</td>\n",
       "      <td>South</td>\n",
       "      <td>77092.57</td>\n",
       "      <td>Year</td>\n",
       "      <td>Y</td>\n",
       "      <td>Certified</td>\n",
       "    </tr>\n",
       "    <tr>\n",
       "      <th>25476</th>\n",
       "      <td>EZYV25477</td>\n",
       "      <td>Asia</td>\n",
       "      <td>High School</td>\n",
       "      <td>Y</td>\n",
       "      <td>N</td>\n",
       "      <td>3274</td>\n",
       "      <td>2006</td>\n",
       "      <td>Northeast</td>\n",
       "      <td>279174.79</td>\n",
       "      <td>Year</td>\n",
       "      <td>Y</td>\n",
       "      <td>Certified</td>\n",
       "    </tr>\n",
       "    <tr>\n",
       "      <th>25477</th>\n",
       "      <td>EZYV25478</td>\n",
       "      <td>Asia</td>\n",
       "      <td>Master's</td>\n",
       "      <td>Y</td>\n",
       "      <td>N</td>\n",
       "      <td>1121</td>\n",
       "      <td>1910</td>\n",
       "      <td>South</td>\n",
       "      <td>146298.85</td>\n",
       "      <td>Year</td>\n",
       "      <td>N</td>\n",
       "      <td>Certified</td>\n",
       "    </tr>\n",
       "    <tr>\n",
       "      <th>25478</th>\n",
       "      <td>EZYV25479</td>\n",
       "      <td>Asia</td>\n",
       "      <td>Master's</td>\n",
       "      <td>Y</td>\n",
       "      <td>Y</td>\n",
       "      <td>1918</td>\n",
       "      <td>1887</td>\n",
       "      <td>West</td>\n",
       "      <td>86154.77</td>\n",
       "      <td>Year</td>\n",
       "      <td>Y</td>\n",
       "      <td>Certified</td>\n",
       "    </tr>\n",
       "    <tr>\n",
       "      <th>25479</th>\n",
       "      <td>EZYV25480</td>\n",
       "      <td>Asia</td>\n",
       "      <td>Bachelor's</td>\n",
       "      <td>Y</td>\n",
       "      <td>N</td>\n",
       "      <td>3195</td>\n",
       "      <td>1960</td>\n",
       "      <td>Midwest</td>\n",
       "      <td>70876.91</td>\n",
       "      <td>Year</td>\n",
       "      <td>Y</td>\n",
       "      <td>Certified</td>\n",
       "    </tr>\n",
       "  </tbody>\n",
       "</table>\n",
       "<p>23924 rows × 12 columns</p>\n",
       "</div>"
      ],
      "text/plain": [
       "         case_id continent education_of_employee has_job_experience  \\\n",
       "1         EZYV02      Asia              Master's                  Y   \n",
       "3         EZYV04      Asia            Bachelor's                  N   \n",
       "4         EZYV05    Africa              Master's                  Y   \n",
       "5         EZYV06      Asia              Master's                  Y   \n",
       "6         EZYV07      Asia            Bachelor's                  N   \n",
       "...          ...       ...                   ...                ...   \n",
       "25475  EZYV25476      Asia            Bachelor's                  Y   \n",
       "25476  EZYV25477      Asia           High School                  Y   \n",
       "25477  EZYV25478      Asia              Master's                  Y   \n",
       "25478  EZYV25479      Asia              Master's                  Y   \n",
       "25479  EZYV25480      Asia            Bachelor's                  Y   \n",
       "\n",
       "      requires_job_training  no_of_employees  yr_of_estab  \\\n",
       "1                         N             2412         2002   \n",
       "3                         N               98         1897   \n",
       "4                         N             1082         2005   \n",
       "5                         N             2339         2012   \n",
       "6                         N             4985         1994   \n",
       "...                     ...              ...          ...   \n",
       "25475                     Y             2601         2008   \n",
       "25476                     N             3274         2006   \n",
       "25477                     N             1121         1910   \n",
       "25478                     Y             1918         1887   \n",
       "25479                     N             3195         1960   \n",
       "\n",
       "      region_of_employment  prevailing_wage unit_of_wage full_time_position  \\\n",
       "1                Northeast         83425.65         Year                  Y   \n",
       "3                     West         83434.03         Year                  Y   \n",
       "4                    South        149907.39         Year                  Y   \n",
       "5                    South         78252.14         Year                  Y   \n",
       "6                    South         53635.39         Year                  Y   \n",
       "...                    ...              ...          ...                ...   \n",
       "25475                South         77092.57         Year                  Y   \n",
       "25476            Northeast        279174.79         Year                  Y   \n",
       "25477                South        146298.85         Year                  N   \n",
       "25478                 West         86154.77         Year                  Y   \n",
       "25479              Midwest         70876.91         Year                  Y   \n",
       "\n",
       "      case_status  \n",
       "1       Certified  \n",
       "3          Denied  \n",
       "4       Certified  \n",
       "5       Certified  \n",
       "6       Certified  \n",
       "...           ...  \n",
       "25475   Certified  \n",
       "25476   Certified  \n",
       "25477   Certified  \n",
       "25478   Certified  \n",
       "25479   Certified  \n",
       "\n",
       "[23924 rows x 12 columns]"
      ]
     },
     "execution_count": 24,
     "metadata": {},
     "output_type": "execute_result"
    }
   ],
   "source": [
    "con3=visa_df['no_of_employees']>LB\n",
    "con4=visa_df['no_of_employees']<UB\n",
    "non_oultiers_data=visa_df[con3 & con4]\n",
    "non_oultiers_data"
   ]
  },
  {
   "cell_type": "code",
   "execution_count": 25,
   "id": "4b33b025-0e65-435e-b2b9-591c774751f0",
   "metadata": {},
   "outputs": [
    {
     "data": {
      "text/plain": [
       "23924"
      ]
     },
     "execution_count": 25,
     "metadata": {},
     "output_type": "execute_result"
    }
   ],
   "source": [
    "len(non_oultiers_data)"
   ]
  },
  {
   "cell_type": "markdown",
   "id": "15d78b1f-a3bd-4521-89a8-8f685d323fab",
   "metadata": {},
   "source": [
    "# 23924 are non oultiers - noOfEmployees"
   ]
  },
  {
   "cell_type": "code",
   "execution_count": 26,
   "id": "d2d0a2ef-f419-444e-908e-25ae46522e98",
   "metadata": {},
   "outputs": [
    {
     "data": {
      "image/png": "[encoded data removed]",
      "text/plain": [
       "<Figure size 1400x500 with 4 Axes>"
      ]
     },
     "metadata": {},
     "output_type": "display_data"
    }
   ],
   "source": [
    "plt.figure(figsize=(14,5))\n",
    "\n",
    "plt.suptitle(\"Non outliers data vs Original Data\")\n",
    "plt.subplot(2,2,1).hist(non_oultiers_data['no_of_employees'])\n",
    "plt.subplot(2,2,2).boxplot(non_oultiers_data['no_of_employees'])\n",
    "\n",
    "plt.subplot(2,2,3).hist(visa_df['no_of_employees'])\n",
    "plt.subplot(2,2,4).boxplot(visa_df['no_of_employees'])\n",
    "plt.show()"
   ]
  },
  {
   "cell_type": "code",
   "execution_count": 27,
   "id": "3df1d5c0-413f-413c-b04c-493f313e7e00",
   "metadata": {},
   "outputs": [
    {
     "data": {
      "text/plain": [
       "(array([4359., 4342., 4204., 3625., 2859., 2052., 1434.,  711.,  269.,\n",
       "          69.]),\n",
       " array([ -26. ,  696.1, 1418.2, 2140.3, 2862.4, 3584.5, 4306.6, 5028.7,\n",
       "        5750.8, 6472.9, 7195. ]),\n",
       " <BarContainer object of 10 artists>)"
      ]
     },
     "execution_count": 27,
     "metadata": {},
     "output_type": "execute_result"
    },
    {
     "data": {
      "image/png": "[encoded data removed]",
      "text/plain": [
       "<Figure size 1400x500 with 1 Axes>"
      ]
     },
     "metadata": {},
     "output_type": "display_data"
    }
   ],
   "source": [
    "plt.figure(figsize=(14,5))\n",
    "plt.subplot(1,2,1).hist(visa_df['no_of_employees'])\n",
    "plt.subplot(1,2,1).hist(non_oultiers_data['no_of_employees'])"
   ]
  },
  {
   "cell_type": "markdown",
   "id": "2772ad0d-cd30-4394-a07b-415c3db85838",
   "metadata": {},
   "source": [
    "**How to deal with outliers**"
   ]
  },
  {
   "cell_type": "markdown",
   "id": "4954dfe1-67ff-4ee0-8d64-558420a70be4",
   "metadata": {},
   "source": [
    "- Drop outliers\n",
    "- Fill with Median value\n",
    "- Cap the values with Q1 and Q3"
   ]
  },
  {
   "cell_type": "markdown",
   "id": "46f917f6-7010-4392-82d6-4583d925148e",
   "metadata": {},
   "source": [
    "**Fill with Median value**"
   ]
  },
  {
   "cell_type": "markdown",
   "id": "508904ea-8962-4cf9-a4de-a6e2aca2f43f",
   "metadata": {},
   "source": [
    "- create empty list\n",
    "- iterate the visa_df['no_of_employees'].values\n",
    "- if each value ub then append with median value,else append with i value"
   ]
  },
  {
   "cell_type": "code",
   "execution_count": 28,
   "id": "b161bc78-6dd6-457a-8500-41476bf1b565",
   "metadata": {},
   "outputs": [
    {
     "data": {
      "text/plain": [
       "{'whiskers': [<matplotlib.lines.Line2D at 0x2985bbf6e50>,\n",
       "  <matplotlib.lines.Line2D at 0x2985bbf7f10>],\n",
       " 'caps': [<matplotlib.lines.Line2D at 0x2985bbfcf90>,\n",
       "  <matplotlib.lines.Line2D at 0x2985bbfde10>],\n",
       " 'boxes': [<matplotlib.lines.Line2D at 0x2985bbec350>],\n",
       " 'medians': [<matplotlib.lines.Line2D at 0x2985bbfebd0>],\n",
       " 'fliers': [<matplotlib.lines.Line2D at 0x2985bbffa90>],\n",
       " 'means': []}"
      ]
     },
     "execution_count": 28,
     "metadata": {},
     "output_type": "execute_result"
    },
    {
     "data": {
      "image/png": "[encoded data removed]",
      "text/plain": [
       "<Figure size 640x480 with 1 Axes>"
      ]
     },
     "metadata": {},
     "output_type": "display_data"
    }
   ],
   "source": [
    "l=[]\n",
    "med=visa_df['no_of_employees'].median()\n",
    "Q1 = np.percentile(visa_df['no_of_employees'], 25)\n",
    "Q3 = np.percentile(visa_df['no_of_employees'], 75)\n",
    "LB=Q1-1.5*(Q3-Q1)\n",
    "UB=Q3+1.5*(Q3-Q1)\n",
    "for i in visa_df['no_of_employees'].values:\n",
    "    if i<LB or i>UB:\n",
    "        l.append(med)\n",
    "    else:\n",
    "        l.append(i)\n",
    "visa_df_copy=visa_df.copy()\n",
    "visa_df_copy['no_of_employees']=l\n",
    "plt.boxplot(visa_df_copy['no_of_employees'])\n"
   ]
  },
  {
   "cell_type": "code",
   "execution_count": null,
   "id": "e9ad3257-a5e5-4325-a968-c237ecb400fc",
   "metadata": {},
   "outputs": [],
   "source": []
  }
 ],
 "metadata": {
  "kernelspec": {
   "display_name": "Python 3 (ipykernel)",
   "language": "python",
   "name": "python3"
  },
  "language_info": {
   "codemirror_mode": {
    "name": "ipython",
    "version": 3
   },
   "file_extension": ".py",
   "mimetype": "text/x-python",
   "name": "python",
   "nbconvert_exporter": "python",
   "pygments_lexer": "ipython3",
   "version": "3.11.7"
  }
 },
 "nbformat": 4,
 "nbformat_minor": 5
}
