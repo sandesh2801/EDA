{
 "cells": [
  {
   "cell_type": "code",
   "execution_count": 1,
   "id": "95a1bdf7-038c-4f21-8110-971ffea0a269",
   "metadata": {},
   "outputs": [],
   "source": [
    "import pandas as pd\n",
    "import numpy as np\n",
    "import matplotlib.pyplot as plt\n",
    "import seaborn as sns"
   ]
  },
  {
   "cell_type": "code",
   "execution_count": 2,
   "id": "1a4d627b-169f-4f93-adad-b8c8913dadb2",
   "metadata": {},
   "outputs": [
    {
     "data": {
      "text/html": [
       "<div>\n",
       "<style scoped>\n",
       "    .dataframe tbody tr th:only-of-type {\n",
       "        vertical-align: middle;\n",
       "    }\n",
       "\n",
       "    .dataframe tbody tr th {\n",
       "        vertical-align: top;\n",
       "    }\n",
       "\n",
       "    .dataframe thead th {\n",
       "        text-align: right;\n",
       "    }\n",
       "</style>\n",
       "<table border=\"1\" class=\"dataframe\">\n",
       "  <thead>\n",
       "    <tr style=\"text-align: right;\">\n",
       "      <th></th>\n",
       "      <th>case_id</th>\n",
       "      <th>continent</th>\n",
       "      <th>education_of_employee</th>\n",
       "      <th>has_job_experience</th>\n",
       "      <th>requires_job_training</th>\n",
       "      <th>no_of_employees</th>\n",
       "      <th>yr_of_estab</th>\n",
       "      <th>region_of_employment</th>\n",
       "      <th>prevailing_wage</th>\n",
       "      <th>unit_of_wage</th>\n",
       "      <th>full_time_position</th>\n",
       "      <th>case_status</th>\n",
       "    </tr>\n",
       "  </thead>\n",
       "  <tbody>\n",
       "    <tr>\n",
       "      <th>0</th>\n",
       "      <td>EZYV01</td>\n",
       "      <td>Asia</td>\n",
       "      <td>High School</td>\n",
       "      <td>N</td>\n",
       "      <td>N</td>\n",
       "      <td>14513</td>\n",
       "      <td>2007</td>\n",
       "      <td>West</td>\n",
       "      <td>592.2029</td>\n",
       "      <td>Hour</td>\n",
       "      <td>Y</td>\n",
       "      <td>Denied</td>\n",
       "    </tr>\n",
       "    <tr>\n",
       "      <th>1</th>\n",
       "      <td>EZYV02</td>\n",
       "      <td>Asia</td>\n",
       "      <td>Master's</td>\n",
       "      <td>Y</td>\n",
       "      <td>N</td>\n",
       "      <td>2412</td>\n",
       "      <td>2002</td>\n",
       "      <td>Northeast</td>\n",
       "      <td>83425.6500</td>\n",
       "      <td>Year</td>\n",
       "      <td>Y</td>\n",
       "      <td>Certified</td>\n",
       "    </tr>\n",
       "    <tr>\n",
       "      <th>2</th>\n",
       "      <td>EZYV03</td>\n",
       "      <td>Asia</td>\n",
       "      <td>Bachelor's</td>\n",
       "      <td>N</td>\n",
       "      <td>Y</td>\n",
       "      <td>44444</td>\n",
       "      <td>2008</td>\n",
       "      <td>West</td>\n",
       "      <td>122996.8600</td>\n",
       "      <td>Year</td>\n",
       "      <td>Y</td>\n",
       "      <td>Denied</td>\n",
       "    </tr>\n",
       "    <tr>\n",
       "      <th>3</th>\n",
       "      <td>EZYV04</td>\n",
       "      <td>Asia</td>\n",
       "      <td>Bachelor's</td>\n",
       "      <td>N</td>\n",
       "      <td>N</td>\n",
       "      <td>98</td>\n",
       "      <td>1897</td>\n",
       "      <td>West</td>\n",
       "      <td>83434.0300</td>\n",
       "      <td>Year</td>\n",
       "      <td>Y</td>\n",
       "      <td>Denied</td>\n",
       "    </tr>\n",
       "    <tr>\n",
       "      <th>4</th>\n",
       "      <td>EZYV05</td>\n",
       "      <td>Africa</td>\n",
       "      <td>Master's</td>\n",
       "      <td>Y</td>\n",
       "      <td>N</td>\n",
       "      <td>1082</td>\n",
       "      <td>2005</td>\n",
       "      <td>South</td>\n",
       "      <td>149907.3900</td>\n",
       "      <td>Year</td>\n",
       "      <td>Y</td>\n",
       "      <td>Certified</td>\n",
       "    </tr>\n",
       "  </tbody>\n",
       "</table>\n",
       "</div>"
      ],
      "text/plain": [
       "  case_id continent education_of_employee has_job_experience  \\\n",
       "0  EZYV01      Asia           High School                  N   \n",
       "1  EZYV02      Asia              Master's                  Y   \n",
       "2  EZYV03      Asia            Bachelor's                  N   \n",
       "3  EZYV04      Asia            Bachelor's                  N   \n",
       "4  EZYV05    Africa              Master's                  Y   \n",
       "\n",
       "  requires_job_training  no_of_employees  yr_of_estab region_of_employment  \\\n",
       "0                     N            14513         2007                 West   \n",
       "1                     N             2412         2002            Northeast   \n",
       "2                     Y            44444         2008                 West   \n",
       "3                     N               98         1897                 West   \n",
       "4                     N             1082         2005                South   \n",
       "\n",
       "   prevailing_wage unit_of_wage full_time_position case_status  \n",
       "0         592.2029         Hour                  Y      Denied  \n",
       "1       83425.6500         Year                  Y   Certified  \n",
       "2      122996.8600         Year                  Y      Denied  \n",
       "3       83434.0300         Year                  Y      Denied  \n",
       "4      149907.3900         Year                  Y   Certified  "
      ]
     },
     "execution_count": 2,
     "metadata": {},
     "output_type": "execute_result"
    }
   ],
   "source": [
    "visa_df=pd.read_csv(r\"C:\\Users\\hp\\Documents\\Data Science\\Naresh IT\\EDA with Python\\Visadataset - Visadataset.csv\")\n",
    "visa_df.head()"
   ]
  },
  {
   "cell_type": "markdown",
   "id": "995b123b-ea89-4ccf-ab39-000d9e4f9fc8",
   "metadata": {},
   "source": [
    "**Standasization**"
   ]
  },
  {
   "cell_type": "markdown",
   "id": "72988be8-3c58-4b92-9011-bca48162c59c",
   "metadata": {},
   "source": [
    "- Z-Scores\n",
    "- values from -3 to 3\n",
    "- z=x-mean/SD"
   ]
  },
  {
   "cell_type": "markdown",
   "id": "579d0d87-4d68-4883-a745-538280b7649c",
   "metadata": {},
   "source": [
    "**Normalization**\n",
    "\n",
    "- min max scalar"
   ]
  },
  {
   "cell_type": "markdown",
   "id": "9e55d3a1-3957-4cda-9c37-4f5d89432570",
   "metadata": {},
   "source": [
    "**Task**\n",
    "\n",
    "- Step:1 take prevaling_Wage column\n",
    "- Step:2 Cal the mean value of prev wage\n",
    "- Step:3 Cal the SD of prev wage\n",
    "- Step:4 Cal the Numerator: Step1-Step2\n",
    "- Step:5 Divide Step4/Step3"
   ]
  },
  {
   "cell_type": "code",
   "execution_count": 18,
   "id": "7217055f-eace-4d50-b893-7cef1165308a",
   "metadata": {},
   "outputs": [
    {
     "data": {
      "text/plain": [
       "0       -1.398510\n",
       "1        0.169832\n",
       "2        0.919060\n",
       "3        0.169991\n",
       "4        1.428576\n",
       "           ...   \n",
       "25475    0.049923\n",
       "25476    3.876083\n",
       "25477    1.360253\n",
       "25478    0.221504\n",
       "25479   -0.067762\n",
       "Name: prev, Length: 25480, dtype: float64"
      ]
     },
     "execution_count": 18,
     "metadata": {},
     "output_type": "execute_result"
    }
   ],
   "source": [
    "col=visa_df['prevailing_wage']\n",
    "mean_col=col.mean()\n",
    "std_col=col.std()\n",
    "num=col-mean_col\n",
    "visa_df['prev']=num/std_col\n",
    "visa_df['prev']"
   ]
  },
  {
   "cell_type": "markdown",
   "id": "1503ffbc-1cb8-4ee6-9a13-ca474c67d9a0",
   "metadata": {},
   "source": [
    "**Task-2**\n",
    "\n",
    "- Compare the 2 columns \n",
    "- Get The max value and min value of the indexes\n",
    "- the both indexes must match"
   ]
  },
  {
   "cell_type": "markdown",
   "id": "b910eb00-3adb-4304-a356-bcd50b98af26",
   "metadata": {},
   "source": [
    "**idxmax-idxmin**"
   ]
  },
  {
   "cell_type": "code",
   "execution_count": 19,
   "id": "15f0c885-d2ea-4ae1-a579-ebbcee390019",
   "metadata": {},
   "outputs": [
    {
     "data": {
      "text/plain": [
       "((21077, 21077), (20575, 20575))"
      ]
     },
     "execution_count": 19,
     "metadata": {},
     "output_type": "execute_result"
    }
   ],
   "source": [
    "maxx=visa_df['prevailing_wage'].idxmax(),visa_df['prev'].idxmax()\n",
    "minn=visa_df['prevailing_wage'].idxmin(),visa_df['prev'].idxmin()\n",
    "\n",
    "maxx,minn"
   ]
  },
  {
   "cell_type": "code",
   "execution_count": 20,
   "id": "0467c722-9cd9-4faa-966b-1dd3492f91cb",
   "metadata": {},
   "outputs": [
    {
     "data": {
      "text/plain": [
       "((319210.27, 4.634101837909902), (2.1367, -1.4096818992891214))"
      ]
     },
     "execution_count": 20,
     "metadata": {},
     "output_type": "execute_result"
    }
   ],
   "source": [
    "max_val=visa_df['prevailing_wage'].max(),visa_df['prev'].max()\n",
    "min_val=visa_df['prevailing_wage'].min(),visa_df['prev'].min()\n",
    "\n",
    "max_val,min_val"
   ]
  },
  {
   "cell_type": "markdown",
   "id": "0206af37-1afa-4e69-92bd-159e485cace9",
   "metadata": {},
   "source": [
    "**Standard Scalar**\n",
    "\n",
    "  - Same as Z-Score only but by using package\n",
    "  - It is under sklearn package\n",
    "  - In the sklearn we have preprocessing\n",
    "  - Read the package\n",
    "  - Save the package\n",
    "  - Apply fit transform\n",
    "  - Compare 3 columns\n",
    "    - One is original\n",
    "    - Manually we did z-score\n",
    "    - column with package"
   ]
  },
  {
   "cell_type": "code",
   "execution_count": 23,
   "id": "1929585d-125a-4e6b-b811-a744cc810a22",
   "metadata": {},
   "outputs": [
    {
     "data": {
      "text/plain": [
       "0       -1.398537\n",
       "1        0.169835\n",
       "2        0.919079\n",
       "3        0.169994\n",
       "4        1.428604\n",
       "           ...   \n",
       "25475    0.049924\n",
       "25476    3.876159\n",
       "25477    1.360280\n",
       "25478    0.221509\n",
       "25479   -0.067763\n",
       "Name: prevailing_wage_ss, Length: 25480, dtype: float64"
      ]
     },
     "execution_count": 23,
     "metadata": {},
     "output_type": "execute_result"
    }
   ],
   "source": [
    "from sklearn.preprocessing import StandardScaler\n",
    "\n",
    "ss=StandardScaler()\n",
    "\n",
    "visa_df['prevailing_wage_ss']=ss.fit_transform(visa_df[['prevailing_wage']])\n",
    "visa_df['prevailing_wage_ss']"
   ]
  },
  {
   "cell_type": "markdown",
   "id": "85938c57-a501-476b-860e-a0e36d91d79d",
   "metadata": {},
   "source": [
    "- Single square bracket is series\n",
    "- Double square bracket is Data Frame\n",
    "- Whenever you see the shape error apply double square bracket\n"
   ]
  },
  {
   "cell_type": "code",
   "execution_count": 24,
   "id": "b03bdb9a-989a-40f0-a304-b454bb7ea78b",
   "metadata": {},
   "outputs": [
    {
     "data": {
      "text/html": [
       "<div>\n",
       "<style scoped>\n",
       "    .dataframe tbody tr th:only-of-type {\n",
       "        vertical-align: middle;\n",
       "    }\n",
       "\n",
       "    .dataframe tbody tr th {\n",
       "        vertical-align: top;\n",
       "    }\n",
       "\n",
       "    .dataframe thead th {\n",
       "        text-align: right;\n",
       "    }\n",
       "</style>\n",
       "<table border=\"1\" class=\"dataframe\">\n",
       "  <thead>\n",
       "    <tr style=\"text-align: right;\">\n",
       "      <th></th>\n",
       "      <th>prevailing_wage</th>\n",
       "      <th>prev</th>\n",
       "      <th>prevailing_wage_ss</th>\n",
       "    </tr>\n",
       "  </thead>\n",
       "  <tbody>\n",
       "    <tr>\n",
       "      <th>0</th>\n",
       "      <td>592.2029</td>\n",
       "      <td>-1.398510</td>\n",
       "      <td>-1.398537</td>\n",
       "    </tr>\n",
       "    <tr>\n",
       "      <th>1</th>\n",
       "      <td>83425.6500</td>\n",
       "      <td>0.169832</td>\n",
       "      <td>0.169835</td>\n",
       "    </tr>\n",
       "    <tr>\n",
       "      <th>2</th>\n",
       "      <td>122996.8600</td>\n",
       "      <td>0.919060</td>\n",
       "      <td>0.919079</td>\n",
       "    </tr>\n",
       "    <tr>\n",
       "      <th>3</th>\n",
       "      <td>83434.0300</td>\n",
       "      <td>0.169991</td>\n",
       "      <td>0.169994</td>\n",
       "    </tr>\n",
       "    <tr>\n",
       "      <th>4</th>\n",
       "      <td>149907.3900</td>\n",
       "      <td>1.428576</td>\n",
       "      <td>1.428604</td>\n",
       "    </tr>\n",
       "    <tr>\n",
       "      <th>...</th>\n",
       "      <td>...</td>\n",
       "      <td>...</td>\n",
       "      <td>...</td>\n",
       "    </tr>\n",
       "    <tr>\n",
       "      <th>25475</th>\n",
       "      <td>77092.5700</td>\n",
       "      <td>0.049923</td>\n",
       "      <td>0.049924</td>\n",
       "    </tr>\n",
       "    <tr>\n",
       "      <th>25476</th>\n",
       "      <td>279174.7900</td>\n",
       "      <td>3.876083</td>\n",
       "      <td>3.876159</td>\n",
       "    </tr>\n",
       "    <tr>\n",
       "      <th>25477</th>\n",
       "      <td>146298.8500</td>\n",
       "      <td>1.360253</td>\n",
       "      <td>1.360280</td>\n",
       "    </tr>\n",
       "    <tr>\n",
       "      <th>25478</th>\n",
       "      <td>86154.7700</td>\n",
       "      <td>0.221504</td>\n",
       "      <td>0.221509</td>\n",
       "    </tr>\n",
       "    <tr>\n",
       "      <th>25479</th>\n",
       "      <td>70876.9100</td>\n",
       "      <td>-0.067762</td>\n",
       "      <td>-0.067763</td>\n",
       "    </tr>\n",
       "  </tbody>\n",
       "</table>\n",
       "<p>25480 rows × 3 columns</p>\n",
       "</div>"
      ],
      "text/plain": [
       "       prevailing_wage      prev  prevailing_wage_ss\n",
       "0             592.2029 -1.398510           -1.398537\n",
       "1           83425.6500  0.169832            0.169835\n",
       "2          122996.8600  0.919060            0.919079\n",
       "3           83434.0300  0.169991            0.169994\n",
       "4          149907.3900  1.428576            1.428604\n",
       "...                ...       ...                 ...\n",
       "25475       77092.5700  0.049923            0.049924\n",
       "25476      279174.7900  3.876083            3.876159\n",
       "25477      146298.8500  1.360253            1.360280\n",
       "25478       86154.7700  0.221504            0.221509\n",
       "25479       70876.9100 -0.067762           -0.067763\n",
       "\n",
       "[25480 rows x 3 columns]"
      ]
     },
     "execution_count": 24,
     "metadata": {},
     "output_type": "execute_result"
    }
   ],
   "source": [
    "visa_df[['prevailing_wage','prev','prevailing_wage_ss']]"
   ]
  },
  {
   "cell_type": "markdown",
   "id": "3b204ae9-7d12-48ec-a195-515abdb6f636",
   "metadata": {},
   "source": [
    "**Normalization**"
   ]
  },
  {
   "cell_type": "code",
   "execution_count": null,
   "id": "6d011cb0-9751-4abf-8fa5-aa155a02b104",
   "metadata": {},
   "outputs": [],
   "source": []
  }
 ],
 "metadata": {
  "kernelspec": {
   "display_name": "Python 3 (ipykernel)",
   "language": "python",
   "name": "python3"
  },
  "language_info": {
   "codemirror_mode": {
    "name": "ipython",
    "version": 3
   },
   "file_extension": ".py",
   "mimetype": "text/x-python",
   "name": "python",
   "nbconvert_exporter": "python",
   "pygments_lexer": "ipython3",
   "version": "3.11.7"
  }
 },
 "nbformat": 4,
 "nbformat_minor": 5
}
